{
 "cells": [
  {
   "cell_type": "markdown",
   "id": "6edeae21",
   "metadata": {},
   "source": [
    "# EDA 1"
   ]
  },
  {
   "cell_type": "code",
   "execution_count": 1,
   "id": "377a8a6b",
   "metadata": {
    "ExecuteTime": {
     "end_time": "2022-11-01T16:07:55.834300Z",
     "start_time": "2022-11-01T16:07:53.786618Z"
    }
   },
   "outputs": [],
   "source": [
    "import pandas as pd\n",
    "import matplotlib.pyplot as plt\n",
    "import numpy as np\n",
    "import seaborn as sns"
   ]
  },
  {
   "cell_type": "markdown",
   "id": "3b1a52cc",
   "metadata": {},
   "source": [
    "# Data type conversion"
   ]
  },
  {
   "cell_type": "code",
   "execution_count": null,
   "id": "1dcedf99",
   "metadata": {},
   "outputs": [],
   "source": [
    "data.Weather=data.Weather.astype('category')\n",
    "data.Weather"
   ]
  },
  {
   "cell_type": "code",
   "execution_count": null,
   "id": "5380e981",
   "metadata": {},
   "outputs": [],
   "source": [
    "data.dtypes"
   ]
  },
  {
   "cell_type": "code",
   "execution_count": null,
   "id": "8b3b35be",
   "metadata": {},
   "outputs": [],
   "source": [
    "data.Weather.dtypes"
   ]
  },
  {
   "cell_type": "code",
   "execution_count": null,
   "id": "26e8c67c",
   "metadata": {},
   "outputs": [],
   "source": [
    "data.info()"
   ]
  },
  {
   "cell_type": "code",
   "execution_count": null,
   "id": "fba3fe38",
   "metadata": {},
   "outputs": [],
   "source": [
    "data.Month.value_counts()"
   ]
  },
  {
   "cell_type": "code",
   "execution_count": null,
   "id": "6aaa61d2",
   "metadata": {},
   "outputs": [],
   "source": [
    "data.Month.replace('May',5,inplace=True)"
   ]
  },
  {
   "cell_type": "code",
   "execution_count": null,
   "id": "0c3d6102",
   "metadata": {},
   "outputs": [],
   "source": [
    "data['Temp C'].value_counts()"
   ]
  },
  {
   "cell_type": "code",
   "execution_count": null,
   "id": "0a860117",
   "metadata": {},
   "outputs": [],
   "source": [
    "data['Temp C'].replace('C',81,inplace=True)"
   ]
  },
  {
   "cell_type": "code",
   "execution_count": null,
   "id": "72abe7f9",
   "metadata": {},
   "outputs": [],
   "source": [
    "data.Temp"
   ]
  },
  {
   "cell_type": "markdown",
   "id": "640f58ca",
   "metadata": {},
   "source": [
    "# Duplicates"
   ]
  },
  {
   "cell_type": "code",
   "execution_count": null,
   "id": "a02f4b2e",
   "metadata": {},
   "outputs": [],
   "source": [
    "data.duplicated()"
   ]
  },
  {
   "cell_type": "code",
   "execution_count": null,
   "id": "299a4057",
   "metadata": {},
   "outputs": [],
   "source": [
    "data.duplicated().index"
   ]
  },
  {
   "cell_type": "code",
   "execution_count": null,
   "id": "3c0f4972",
   "metadata": {},
   "outputs": [],
   "source": [
    "data.loc[157]"
   ]
  },
  {
   "cell_type": "code",
   "execution_count": null,
   "id": "5f13b5a9",
   "metadata": {},
   "outputs": [],
   "source": [
    "d1=data.drop_duplicates()"
   ]
  },
  {
   "cell_type": "code",
   "execution_count": null,
   "id": "707e11fb",
   "metadata": {},
   "outputs": [],
   "source": [
    "d1.duplicated()"
   ]
  },
  {
   "cell_type": "markdown",
   "id": "dd493d19",
   "metadata": {},
   "source": [
    "# Drop Column"
   ]
  },
  {
   "cell_type": "code",
   "execution_count": null,
   "id": "6d15e2c4",
   "metadata": {},
   "outputs": [],
   "source": [
    "d1.columns"
   ]
  },
  {
   "cell_type": "code",
   "execution_count": null,
   "id": "a28a1a05",
   "metadata": {},
   "outputs": [],
   "source": [
    "d2=d1.drop([\"Temp C\"],axis=1)\n",
    "d2.columns"
   ]
  },
  {
   "cell_type": "code",
   "execution_count": null,
   "id": "9615570a",
   "metadata": {},
   "outputs": [],
   "source": [
    "d2.info()"
   ]
  },
  {
   "cell_type": "markdown",
   "id": "362e4624",
   "metadata": {},
   "source": [
    "# Rename The Column"
   ]
  },
  {
   "cell_type": "code",
   "execution_count": null,
   "id": "ee4cc49f",
   "metadata": {},
   "outputs": [],
   "source": [
    "dit={\n",
    "    'Solar.R':'Solar'\n",
    "}\n",
    "d3=d2.rename(dit,axis=1)\n",
    "d3"
   ]
  },
  {
   "cell_type": "code",
   "execution_count": null,
   "id": "8ce2097c",
   "metadata": {},
   "outputs": [],
   "source": [
    "d4=d3.drop(['Year'],axis=1)\n",
    "d4"
   ]
  },
  {
   "cell_type": "markdown",
   "id": "a5d4f66f",
   "metadata": {},
   "source": [
    "# Missing Values and Imputation"
   ]
  },
  {
   "cell_type": "markdown",
   "id": "0fc372ff",
   "metadata": {},
   "source": [
    "# Outlier Detection"
   ]
  },
  {
   "cell_type": "code",
   "execution_count": null,
   "id": "214c4abf",
   "metadata": {},
   "outputs": [],
   "source": [
    "d4.boxplot(figsize=(15,10))\n",
    "plt.show()\n"
   ]
  },
  {
   "cell_type": "code",
   "execution_count": null,
   "id": "182fbbab",
   "metadata": {},
   "outputs": [],
   "source": [
    "data.Month"
   ]
  },
  {
   "cell_type": "code",
   "execution_count": null,
   "id": "3d91d303",
   "metadata": {},
   "outputs": [],
   "source": [
    "d4.hist()\n",
    "plt.tight_layout()\n",
    "plt.show()"
   ]
  },
  {
   "cell_type": "code",
   "execution_count": null,
   "id": "48dc96e4",
   "metadata": {},
   "outputs": [],
   "source": [
    "d4.describe()\n",
    "d4.Month"
   ]
  },
  {
   "cell_type": "code",
   "execution_count": null,
   "id": "6cfbc98c",
   "metadata": {},
   "outputs": [],
   "source": [
    "sns.heatmap(d4.isnull())\n",
    "plt.show()         "
   ]
  },
  {
   "cell_type": "code",
   "execution_count": null,
   "id": "bc4cbb86",
   "metadata": {},
   "outputs": [],
   "source": [
    "sns.heatmap(d4.isnull(),cmap=['yellow','red'])\n",
    "plt.show()"
   ]
  },
  {
   "cell_type": "code",
   "execution_count": null,
   "id": "d8025b34",
   "metadata": {},
   "outputs": [],
   "source": [
    "d4.isnull().sum()"
   ]
  },
  {
   "cell_type": "code",
   "execution_count": null,
   "id": "0bbb657e",
   "metadata": {},
   "outputs": [],
   "source": [
    "(d4.isnull().sum()*100)/len(d4)"
   ]
  },
  {
   "cell_type": "code",
   "execution_count": null,
   "id": "6a300891",
   "metadata": {},
   "outputs": [],
   "source": [
    "d4['Ozone'].fillna(d4['Ozone'].median(),inplace=True)"
   ]
  },
  {
   "cell_type": "code",
   "execution_count": null,
   "id": "4d5d97e6",
   "metadata": {},
   "outputs": [],
   "source": [
    "d4"
   ]
  },
  {
   "cell_type": "code",
   "execution_count": null,
   "id": "f9af69ba",
   "metadata": {},
   "outputs": [],
   "source": [
    "d4['Solar'].fillna(d4['Solar'].median(),inplace=True)"
   ]
  },
  {
   "cell_type": "code",
   "execution_count": null,
   "id": "07d54ea7",
   "metadata": {},
   "outputs": [],
   "source": [
    "d4"
   ]
  },
  {
   "cell_type": "code",
   "execution_count": null,
   "id": "88a8bd4d",
   "metadata": {},
   "outputs": [],
   "source": [
    "d4['Wind'].fillna(d4['Wind'].median(),inplace=True)\n",
    "d4"
   ]
  },
  {
   "cell_type": "code",
   "execution_count": null,
   "id": "eeaf7bd4",
   "metadata": {},
   "outputs": [],
   "source": [
    "sns.heatmap(d4.isnull(),cmap=['yellow','red'])\n",
    "plt.show()"
   ]
  },
  {
   "cell_type": "code",
   "execution_count": null,
   "id": "2e1b7395",
   "metadata": {},
   "outputs": [],
   "source": [
    "mde=d4['Weather'].mode()[0]"
   ]
  },
  {
   "cell_type": "code",
   "execution_count": null,
   "id": "e272bec4",
   "metadata": {},
   "outputs": [],
   "source": [
    "mde"
   ]
  },
  {
   "cell_type": "code",
   "execution_count": null,
   "id": "db28451f",
   "metadata": {},
   "outputs": [],
   "source": [
    "d4['Weather'].fillna(mde,inplace=True)\n",
    "d4"
   ]
  },
  {
   "cell_type": "code",
   "execution_count": null,
   "id": "277315cc",
   "metadata": {},
   "outputs": [],
   "source": [
    "sns.heatmap(d4.isnull(),cmap=['yellow','red'])\n",
    "plt.show()"
   ]
  },
  {
   "cell_type": "markdown",
   "id": "9d5806ed",
   "metadata": {},
   "source": [
    "# Scatter plot and Correlation analysis"
   ]
  },
  {
   "cell_type": "code",
   "execution_count": null,
   "id": "2d566591",
   "metadata": {},
   "outputs": [],
   "source": [
    "pd.plotting.scatter_matrix(d4)\n",
    "plt.show()\n"
   ]
  },
  {
   "cell_type": "code",
   "execution_count": null,
   "id": "6dbefb06",
   "metadata": {},
   "outputs": [],
   "source": [
    "d4.corr()"
   ]
  },
  {
   "cell_type": "markdown",
   "id": "b1f1800a",
   "metadata": {},
   "source": [
    "# Transformations"
   ]
  },
  {
   "cell_type": "markdown",
   "id": "7b0e3631",
   "metadata": {},
   "source": [
    "## Dummy Variable"
   ]
  },
  {
   "cell_type": "markdown",
   "id": "9a5bd2d3",
   "metadata": {},
   "source": [
    "## Normalization of the data"
   ]
  },
  {
   "cell_type": "markdown",
   "id": "09da788d",
   "metadata": {},
   "source": [
    "# Speed up the EDA process"
   ]
  },
  {
   "cell_type": "code",
   "execution_count": null,
   "id": "cf935cc1",
   "metadata": {},
   "outputs": [],
   "source": [
    "!pip install pandas-profiling==2.10.1"
   ]
  },
  {
   "cell_type": "code",
   "execution_count": null,
   "id": "f6b8fd68",
   "metadata": {},
   "outputs": [],
   "source": [
    "from pandas_profiling import ProfileReport"
   ]
  },
  {
   "cell_type": "code",
   "execution_count": null,
   "id": "dff81cf8",
   "metadata": {},
   "outputs": [],
   "source": [
    "pp=ProfileReport(d4)"
   ]
  },
  {
   "cell_type": "code",
   "execution_count": null,
   "id": "d977a3cf",
   "metadata": {},
   "outputs": [],
   "source": [
    "pp.to_file(output_file='report2.html')"
   ]
  },
  {
   "cell_type": "code",
   "execution_count": null,
   "id": "c3b59e35",
   "metadata": {},
   "outputs": [],
   "source": []
  }
 ],
 "metadata": {
  "kernelspec": {
   "display_name": "Python 3 (ipykernel)",
   "language": "python",
   "name": "python3"
  },
  "language_info": {
   "codemirror_mode": {
    "name": "ipython",
    "version": 3
   },
   "file_extension": ".py",
   "mimetype": "text/x-python",
   "name": "python",
   "nbconvert_exporter": "python",
   "pygments_lexer": "ipython3",
   "version": "3.9.12"
  },
  "varInspector": {
   "cols": {
    "lenName": 16,
    "lenType": 16,
    "lenVar": 40
   },
   "kernels_config": {
    "python": {
     "delete_cmd_postfix": "",
     "delete_cmd_prefix": "del ",
     "library": "var_list.py",
     "varRefreshCmd": "print(var_dic_list())"
    },
    "r": {
     "delete_cmd_postfix": ") ",
     "delete_cmd_prefix": "rm(",
     "library": "var_list.r",
     "varRefreshCmd": "cat(var_dic_list()) "
    }
   },
   "types_to_exclude": [
    "module",
    "function",
    "builtin_function_or_method",
    "instance",
    "_Feature"
   ],
   "window_display": false
  }
 },
 "nbformat": 4,
 "nbformat_minor": 5
}
